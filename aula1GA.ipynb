{
 "cells": [
  {
   "cell_type": "code",
   "execution_count": 1,
   "metadata": {},
   "outputs": [],
   "source": [
    "#sympy-> simbólica\n",
    "#numpy-> numérica\n",
    "#matplotlib-> gráfica\n",
    "#pandas->planilha->excel\n",
    "\n",
    "\n",
    "\n",
    "\n"
   ]
  },
  {
   "cell_type": "code",
   "execution_count": 2,
   "metadata": {},
   "outputs": [],
   "source": [
    "from sympy import*\n",
    "#não necessita do nome do módulo\n",
    "init_printing(use_unicode=True)"
   ]
  },
  {
   "cell_type": "code",
   "execution_count": 4,
   "metadata": {},
   "outputs": [],
   "source": [
    "A=Matrix([[1, 2],[2,5]])"
   ]
  },
  {
   "cell_type": "code",
   "execution_count": 5,
   "metadata": {},
   "outputs": [
    {
     "data": {
      "text/latex": [
       "$\\displaystyle \\left[\\begin{matrix}1 & 2\\\\2 & 5\\end{matrix}\\right]$"
      ],
      "text/plain": [
       "⎡1  2⎤\n",
       "⎢    ⎥\n",
       "⎣2  5⎦"
      ]
     },
     "execution_count": 5,
     "metadata": {},
     "output_type": "execute_result"
    }
   ],
   "source": [
    "A"
   ]
  },
  {
   "cell_type": "code",
   "execution_count": 6,
   "metadata": {},
   "outputs": [],
   "source": [
    "B=Matrix([[2, 0],[1,1]])"
   ]
  },
  {
   "cell_type": "code",
   "execution_count": 7,
   "metadata": {},
   "outputs": [
    {
     "data": {
      "text/latex": [
       "$\\displaystyle \\left[\\begin{matrix}2 & 0\\\\1 & 1\\end{matrix}\\right]$"
      ],
      "text/plain": [
       "⎡2  0⎤\n",
       "⎢    ⎥\n",
       "⎣1  1⎦"
      ]
     },
     "execution_count": 7,
     "metadata": {},
     "output_type": "execute_result"
    }
   ],
   "source": [
    "B"
   ]
  },
  {
   "cell_type": "code",
   "execution_count": 8,
   "metadata": {},
   "outputs": [
    {
     "data": {
      "text/latex": [
       "$\\displaystyle \\left[\\begin{matrix}3 & 2\\\\3 & 6\\end{matrix}\\right]$"
      ],
      "text/plain": [
       "⎡3  2⎤\n",
       "⎢    ⎥\n",
       "⎣3  6⎦"
      ]
     },
     "execution_count": 8,
     "metadata": {},
     "output_type": "execute_result"
    }
   ],
   "source": [
    "A+B"
   ]
  },
  {
   "cell_type": "code",
   "execution_count": 9,
   "metadata": {},
   "outputs": [
    {
     "data": {
      "text/latex": [
       "$\\displaystyle \\left[\\begin{matrix}-1 & 2\\\\1 & 4\\end{matrix}\\right]$"
      ],
      "text/plain": [
       "⎡-1  2⎤\n",
       "⎢     ⎥\n",
       "⎣1   4⎦"
      ]
     },
     "execution_count": 9,
     "metadata": {},
     "output_type": "execute_result"
    }
   ],
   "source": [
    "A-B"
   ]
  },
  {
   "cell_type": "code",
   "execution_count": 10,
   "metadata": {},
   "outputs": [
    {
     "data": {
      "text/latex": [
       "$\\displaystyle \\left[\\begin{matrix}2 & 4\\\\4 & 10\\end{matrix}\\right]$"
      ],
      "text/plain": [
       "⎡2  4 ⎤\n",
       "⎢     ⎥\n",
       "⎣4  10⎦"
      ]
     },
     "execution_count": 10,
     "metadata": {},
     "output_type": "execute_result"
    }
   ],
   "source": [
    "2*A"
   ]
  },
  {
   "cell_type": "code",
   "execution_count": 11,
   "metadata": {},
   "outputs": [
    {
     "data": {
      "text/latex": [
       "$\\displaystyle \\left[\\begin{matrix}4 & 2\\\\9 & 5\\end{matrix}\\right]$"
      ],
      "text/plain": [
       "⎡4  2⎤\n",
       "⎢    ⎥\n",
       "⎣9  5⎦"
      ]
     },
     "execution_count": 11,
     "metadata": {},
     "output_type": "execute_result"
    }
   ],
   "source": [
    "A*B"
   ]
  },
  {
   "cell_type": "code",
   "execution_count": 12,
   "metadata": {},
   "outputs": [
    {
     "name": "stdout",
     "output_type": "stream",
     "text": [
      "Ordem da Matriz M\n"
     ]
    },
    {
     "data": {
      "image/png": "[encoded data removed]",
      "text/latex": [
       "$\\displaystyle \\left( 2, \\  2\\right)$"
      ],
      "text/plain": [
       "(2, 2)"
      ]
     },
     "execution_count": 12,
     "metadata": {},
     "output_type": "execute_result"
    }
   ],
   "source": [
    "print(\"Ordem da Matriz M\")\n",
    "A.shape"
   ]
  },
  {
   "cell_type": "code",
   "execution_count": 14,
   "metadata": {},
   "outputs": [],
   "source": [
    "A=Matrix([[1,3,5,6],[2,1,0,pi],[3,0,2,1],[2,3,4,0]])"
   ]
  },
  {
   "cell_type": "code",
   "execution_count": 15,
   "metadata": {},
   "outputs": [
    {
     "data": {
      "text/latex": [
       "$\\displaystyle \\left[\\begin{matrix}1 & 3 & 5 & 6\\\\2 & 1 & 0 & \\pi\\\\3 & 0 & 2 & 1\\\\2 & 3 & 4 & 0\\end{matrix}\\right]$"
      ],
      "text/plain": [
       "⎡1  3  5  6⎤\n",
       "⎢          ⎥\n",
       "⎢2  1  0  π⎥\n",
       "⎢          ⎥\n",
       "⎢3  0  2  1⎥\n",
       "⎢          ⎥\n",
       "⎣2  3  4  0⎦"
      ]
     },
     "execution_count": 15,
     "metadata": {},
     "output_type": "execute_result"
    }
   ],
   "source": [
    "A"
   ]
  },
  {
   "cell_type": "code",
   "execution_count": 17,
   "metadata": {},
   "outputs": [
    {
     "data": {
      "text/latex": [
       "$\\displaystyle \\left[\\begin{matrix}1 & 3 & 5 & 6\\end{matrix}\\right]$"
      ],
      "text/plain": [
       "[1  3  5  6]"
      ]
     },
     "execution_count": 17,
     "metadata": {},
     "output_type": "execute_result"
    }
   ],
   "source": [
    "A.row(0)"
   ]
  },
  {
   "cell_type": "code",
   "execution_count": 18,
   "metadata": {},
   "outputs": [
    {
     "data": {
      "text/latex": [
       "$\\displaystyle \\left[\\begin{matrix}6\\\\\\pi\\\\1\\\\0\\end{matrix}\\right]$"
      ],
      "text/plain": [
       "⎡6⎤\n",
       "⎢ ⎥\n",
       "⎢π⎥\n",
       "⎢ ⎥\n",
       "⎢1⎥\n",
       "⎢ ⎥\n",
       "⎣0⎦"
      ]
     },
     "execution_count": 18,
     "metadata": {},
     "output_type": "execute_result"
    }
   ],
   "source": [
    "A.col(3)"
   ]
  },
  {
   "cell_type": "code",
   "execution_count": 19,
   "metadata": {},
   "outputs": [
    {
     "name": "stdout",
     "output_type": "stream",
     "text": [
      "Acessando a linha 1 de A\n",
      "Matrix([[1, 3, 5, 6]])\n",
      "\n",
      "Acessando a linha 2 de A\n",
      "Matrix([[2, 1, 0, pi]])\n",
      "\n",
      "Acessando a linha 3 de A\n",
      "Matrix([[3, 0, 2, 1]])\n",
      "\n",
      "Acessando a linha 4 de A\n",
      "Matrix([[2, 3, 4, 0]])\n",
      "\n"
     ]
    }
   ],
   "source": [
    "i=0\n",
    "while i<A.shape[0]:\n",
    "    print(f\"Acessando a linha {i+1} de A\")\n",
    "    print(A.row(i))\n",
    "    print()\n",
    "    i+=1"
   ]
  },
  {
   "cell_type": "code",
   "execution_count": 20,
   "metadata": {},
   "outputs": [
    {
     "data": {
      "image/png": "[encoded data removed]",
      "text/latex": [
       "$\\displaystyle 15 \\pi + 120$"
      ],
      "text/plain": [
       "15⋅π + 120"
      ]
     },
     "execution_count": 20,
     "metadata": {},
     "output_type": "execute_result"
    }
   ],
   "source": [
    "det(A)"
   ]
  },
  {
   "cell_type": "code",
   "execution_count": 21,
   "metadata": {},
   "outputs": [
    {
     "data": {
      "text/latex": [
       "$\\displaystyle \\left[\\begin{matrix}\\frac{- 150 \\pi - 100}{375 \\pi + 3000} & \\frac{825}{375 \\pi + 3000} & \\frac{75 \\pi + 600}{375 \\pi + 3000} & \\frac{-175 + 150 \\pi}{375 \\pi + 3000}\\\\\\frac{200 - 200 \\pi}{375 \\pi + 3000} & \\frac{1350}{375 \\pi + 3000} & \\frac{-1200 - 150 \\pi}{375 \\pi + 3000} & \\frac{350 + 325 \\pi}{375 \\pi + 3000}\\\\\\frac{20 - 45 \\pi}{-600 - 75 \\pi} & \\frac{285}{-600 - 75 \\pi} & \\frac{-120 - 15 \\pi}{-600 - 75 \\pi} & \\frac{-115 + 45 \\pi}{-600 - 75 \\pi}\\\\\\frac{4}{3 \\pi + 24} & \\frac{3}{3 \\pi + 24} & 0 & - \\frac{5}{3 \\pi + 24}\\end{matrix}\\right]$"
      ],
      "text/plain": [
       "⎡-150⋅π - 100      825        75⋅π + 600    -175 + 150⋅π⎤\n",
       "⎢────────────  ────────────  ────────────   ────────────⎥\n",
       "⎢375⋅π + 3000  375⋅π + 3000  375⋅π + 3000   375⋅π + 3000⎥\n",
       "⎢                                                       ⎥\n",
       "⎢200 - 200⋅π       1350      -1200 - 150⋅π  350 + 325⋅π ⎥\n",
       "⎢────────────  ────────────  ─────────────  ────────────⎥\n",
       "⎢375⋅π + 3000  375⋅π + 3000   375⋅π + 3000  375⋅π + 3000⎥\n",
       "⎢                                                       ⎥\n",
       "⎢ 20 - 45⋅π        285        -120 - 15⋅π   -115 + 45⋅π ⎥\n",
       "⎢───────────   ───────────    ───────────   ─────────── ⎥\n",
       "⎢-600 - 75⋅π   -600 - 75⋅π    -600 - 75⋅π   -600 - 75⋅π ⎥\n",
       "⎢                                                       ⎥\n",
       "⎢     4             3                           -5      ⎥\n",
       "⎢  ────────      ────────          0          ────────  ⎥\n",
       "⎣  3⋅π + 24      3⋅π + 24                     3⋅π + 24  ⎦"
      ]
     },
     "execution_count": 21,
     "metadata": {},
     "output_type": "execute_result"
    }
   ],
   "source": [
    "A**-1"
   ]
  },
  {
   "cell_type": "code",
   "execution_count": 22,
   "metadata": {},
   "outputs": [],
   "source": [
    "A = A.row_insert(1, Matrix([[0, 4, 1,1]]))"
   ]
  },
  {
   "cell_type": "code",
   "execution_count": 23,
   "metadata": {},
   "outputs": [
    {
     "data": {
      "text/latex": [
       "$\\displaystyle \\left[\\begin{matrix}1 & 3 & 5 & 6\\\\0 & 4 & 1 & 1\\\\2 & 1 & 0 & \\pi\\\\3 & 0 & 2 & 1\\\\2 & 3 & 4 & 0\\end{matrix}\\right]$"
      ],
      "text/plain": [
       "⎡1  3  5  6⎤\n",
       "⎢          ⎥\n",
       "⎢0  4  1  1⎥\n",
       "⎢          ⎥\n",
       "⎢2  1  0  π⎥\n",
       "⎢          ⎥\n",
       "⎢3  0  2  1⎥\n",
       "⎢          ⎥\n",
       "⎣2  3  4  0⎦"
      ]
     },
     "execution_count": 23,
     "metadata": {},
     "output_type": "execute_result"
    }
   ],
   "source": [
    "A"
   ]
  },
  {
   "cell_type": "code",
   "execution_count": 29,
   "metadata": {},
   "outputs": [],
   "source": [
    "A = A.col_insert(1, Matrix([0, 4,1,1,1]))"
   ]
  },
  {
   "cell_type": "code",
   "execution_count": 30,
   "metadata": {},
   "outputs": [
    {
     "data": {
      "text/latex": [
       "$\\displaystyle \\left[\\begin{matrix}1 & 0 & 3 & 5 & 6\\\\0 & 4 & 4 & 1 & 1\\\\2 & 1 & 1 & 0 & \\pi\\\\3 & 1 & 0 & 2 & 1\\\\2 & 1 & 3 & 4 & 0\\end{matrix}\\right]$"
      ],
      "text/plain": [
       "⎡1  0  3  5  6⎤\n",
       "⎢             ⎥\n",
       "⎢0  4  4  1  1⎥\n",
       "⎢             ⎥\n",
       "⎢2  1  1  0  π⎥\n",
       "⎢             ⎥\n",
       "⎢3  1  0  2  1⎥\n",
       "⎢             ⎥\n",
       "⎣2  1  3  4  0⎦"
      ]
     },
     "execution_count": 30,
     "metadata": {},
     "output_type": "execute_result"
    }
   ],
   "source": [
    "A"
   ]
  },
  {
   "cell_type": "code",
   "execution_count": 31,
   "metadata": {},
   "outputs": [
    {
     "data": {
      "text/latex": [
       "$\\displaystyle \\left[\\begin{matrix}\\frac{-20348928 + 98353152 \\pi}{-1424424960 - 128876544 \\pi} & \\frac{30523392 \\pi + 169574400}{-1424424960 - 128876544 \\pi} & - \\frac{637599744}{-1424424960 - 128876544 \\pi} & \\frac{-47480832 + 16957440 \\pi}{-1424424960 - 128876544 \\pi} & \\frac{6782976 - 139051008 \\pi}{-1424424960 - 128876544 \\pi}\\\\\\frac{651165696 - 312016896 \\pi}{-5697699840 - 515506176 \\pi} & \\frac{-1627914240 - 203489280 \\pi}{-5697699840 - 515506176 \\pi} & \\frac{2360475648}{-5697699840 - 515506176 \\pi} & \\frac{-2279079936 - 284884992 \\pi}{-5697699840 - 515506176 \\pi} & \\frac{732561408 + 583335936 \\pi}{-5697699840 - 515506176 \\pi}\\\\\\frac{-122093568 + 105136128 \\pi}{-1424424960 - 128876544 \\pi} & \\frac{67829760 + 23740416 \\pi}{-1424424960 - 128876544 \\pi} & - \\frac{739344384}{-1424424960 - 128876544 \\pi} & \\frac{84787200 \\pi + 664731648}{-1424424960 - 128876544 \\pi} & \\frac{- 179748864 \\pi - 196706304}{-1424424960 - 128876544 \\pi}\\\\\\frac{-2543616 + 4521984 \\pi}{5369856 \\pi + 59351040} & \\frac{1413120 + 847872 \\pi}{5369856 \\pi + 59351040} & - \\frac{30240768}{5369856 \\pi + 59351040} & \\frac{2260992 \\pi + 13848576}{5369856 \\pi + 59351040} & \\frac{10739712 - 5652480 \\pi}{5369856 \\pi + 59351040}\\\\- \\frac{25344}{-161280 - 14592 \\pi} & - \\frac{3840}{-161280 - 14592 \\pi} & - \\frac{14592}{-161280 - 14592 \\pi} & - \\frac{5376}{-161280 - 14592 \\pi} & \\frac{35328}{-161280 - 14592 \\pi}\\end{matrix}\\right]$"
      ],
      "text/plain": [
       "⎡  -20348928 + 98353152⋅π     30523392⋅π + 169574400          -637599744      \n",
       "⎢─────────────────────────  ─────────────────────────  ───────────────────────\n",
       "⎢-1424424960 - 128876544⋅π  -1424424960 - 128876544⋅π  -1424424960 - 128876544\n",
       "⎢                                                                             \n",
       "⎢ 651165696 - 312016896⋅π   -1627914240 - 203489280⋅π          2360475648     \n",
       "⎢─────────────────────────  ─────────────────────────  ───────────────────────\n",
       "⎢-5697699840 - 515506176⋅π  -5697699840 - 515506176⋅π  -5697699840 - 515506176\n",
       "⎢                                                                             \n",
       "⎢ -122093568 + 105136128⋅π    67829760 + 23740416⋅π           -739344384      \n",
       "⎢─────────────────────────  ─────────────────────────  ───────────────────────\n",
       "⎢-1424424960 - 128876544⋅π  -1424424960 - 128876544⋅π  -1424424960 - 128876544\n",
       "⎢                                                                             \n",
       "⎢  -2543616 + 4521984⋅π        1413120 + 847872⋅π             -30240768       \n",
       "⎢  ────────────────────       ────────────────────       ──────────────────── \n",
       "⎢  5369856⋅π + 59351040       5369856⋅π + 59351040       5369856⋅π + 59351040 \n",
       "⎢                                                                             \n",
       "⎢         -25344                      -3840                     -14592        \n",
       "⎢    ─────────────────          ─────────────────          ─────────────────  \n",
       "⎣    -161280 - 14592⋅π          -161280 - 14592⋅π          -161280 - 14592⋅π  \n",
       "\n",
       "      -47480832 + 16957440⋅π     6782976 - 139051008⋅π  ⎤\n",
       "──  ─────────────────────────  ─────────────────────────⎥\n",
       "⋅π  -1424424960 - 128876544⋅π  -1424424960 - 128876544⋅π⎥\n",
       "                                                        ⎥\n",
       "    -2279079936 - 284884992⋅π   732561408 + 583335936⋅π ⎥\n",
       "──  ─────────────────────────  ─────────────────────────⎥\n",
       "⋅π  -5697699840 - 515506176⋅π  -5697699840 - 515506176⋅π⎥\n",
       "                                                        ⎥\n",
       "      84787200⋅π + 664731648    -179748864⋅π - 196706304⎥\n",
       "──  ─────────────────────────  ─────────────────────────⎥\n",
       "⋅π  -1424424960 - 128876544⋅π  -1424424960 - 128876544⋅π⎥\n",
       "                                                        ⎥\n",
       "      2260992⋅π + 13848576       10739712 - 5652480⋅π   ⎥\n",
       "      ────────────────────       ────────────────────   ⎥\n",
       "      5369856⋅π + 59351040       5369856⋅π + 59351040   ⎥\n",
       "                                                        ⎥\n",
       "              -5376                      35328          ⎥\n",
       "        ─────────────────          ─────────────────    ⎥\n",
       "        -161280 - 14592⋅π          -161280 - 14592⋅π    ⎦"
      ]
     },
     "execution_count": 31,
     "metadata": {},
     "output_type": "execute_result"
    }
   ],
   "source": [
    "A**-1"
   ]
  },
  {
   "cell_type": "code",
   "execution_count": 32,
   "metadata": {},
   "outputs": [],
   "source": [
    "A=Matrix([[1,2,3],[4,5,6],[7,8,9]])"
   ]
  },
  {
   "cell_type": "code",
   "execution_count": 33,
   "metadata": {},
   "outputs": [
    {
     "data": {
      "text/latex": [
       "$\\displaystyle \\left[\\begin{matrix}1 & 2 & 3\\\\4 & 5 & 6\\\\7 & 8 & 9\\end{matrix}\\right]$"
      ],
      "text/plain": [
       "⎡1  2  3⎤\n",
       "⎢       ⎥\n",
       "⎢4  5  6⎥\n",
       "⎢       ⎥\n",
       "⎣7  8  9⎦"
      ]
     },
     "execution_count": 33,
     "metadata": {},
     "output_type": "execute_result"
    }
   ],
   "source": [
    "A"
   ]
  },
  {
   "cell_type": "code",
   "execution_count": 34,
   "metadata": {},
   "outputs": [
    {
     "data": {
      "text/latex": [
       "$\\displaystyle \\left[\\begin{matrix}1 & 4 & 7\\\\2 & 5 & 8\\\\3 & 6 & 9\\end{matrix}\\right]$"
      ],
      "text/plain": [
       "⎡1  4  7⎤\n",
       "⎢       ⎥\n",
       "⎢2  5  8⎥\n",
       "⎢       ⎥\n",
       "⎣3  6  9⎦"
      ]
     },
     "execution_count": 34,
     "metadata": {},
     "output_type": "execute_result"
    }
   ],
   "source": [
    "A.T"
   ]
  },
  {
   "cell_type": "code",
   "execution_count": 36,
   "metadata": {},
   "outputs": [],
   "source": [
    "A.col_del(0)"
   ]
  },
  {
   "cell_type": "code",
   "execution_count": 37,
   "metadata": {},
   "outputs": [
    {
     "data": {
      "text/latex": [
       "$\\displaystyle \\left[\\begin{matrix}2 & 3\\\\5 & 6\\\\8 & 9\\end{matrix}\\right]$"
      ],
      "text/plain": [
       "⎡2  3⎤\n",
       "⎢    ⎥\n",
       "⎢5  6⎥\n",
       "⎢    ⎥\n",
       "⎣8  9⎦"
      ]
     },
     "execution_count": 37,
     "metadata": {},
     "output_type": "execute_result"
    }
   ],
   "source": [
    "A"
   ]
  },
  {
   "cell_type": "code",
   "execution_count": 38,
   "metadata": {},
   "outputs": [],
   "source": [
    "A.row_del(2)"
   ]
  },
  {
   "cell_type": "code",
   "execution_count": 39,
   "metadata": {},
   "outputs": [
    {
     "data": {
      "text/latex": [
       "$\\displaystyle \\left[\\begin{matrix}2 & 3\\\\5 & 6\\end{matrix}\\right]$"
      ],
      "text/plain": [
       "⎡2  3⎤\n",
       "⎢    ⎥\n",
       "⎣5  6⎦"
      ]
     },
     "execution_count": 39,
     "metadata": {},
     "output_type": "execute_result"
    }
   ],
   "source": [
    "A"
   ]
  },
  {
   "cell_type": "code",
   "execution_count": 40,
   "metadata": {},
   "outputs": [
    {
     "data": {
      "text/latex": [
       "$\\displaystyle \\left[\\begin{matrix}-2 & 1\\\\\\frac{5}{3} & - \\frac{2}{3}\\end{matrix}\\right]$"
      ],
      "text/plain": [
       "⎡-2    1  ⎤\n",
       "⎢         ⎥\n",
       "⎣5/3  -2/3⎦"
      ]
     },
     "execution_count": 40,
     "metadata": {},
     "output_type": "execute_result"
    }
   ],
   "source": [
    "A**-1"
   ]
  },
  {
   "cell_type": "code",
   "execution_count": 41,
   "metadata": {},
   "outputs": [
    {
     "data": {
      "text/latex": [
       "$\\displaystyle \\left[\\begin{matrix}1 & 0\\\\0 & 1\\end{matrix}\\right]$"
      ],
      "text/plain": [
       "⎡1  0⎤\n",
       "⎢    ⎥\n",
       "⎣0  1⎦"
      ]
     },
     "execution_count": 41,
     "metadata": {},
     "output_type": "execute_result"
    }
   ],
   "source": [
    "eye(2)"
   ]
  },
  {
   "cell_type": "code",
   "execution_count": 42,
   "metadata": {},
   "outputs": [
    {
     "data": {
      "text/latex": [
       "$\\displaystyle \\left[\\begin{matrix}1 & 0 & 0 & 0\\\\0 & 1 & 0 & 0\\\\0 & 0 & 1 & 0\\\\0 & 0 & 0 & 1\\end{matrix}\\right]$"
      ],
      "text/plain": [
       "⎡1  0  0  0⎤\n",
       "⎢          ⎥\n",
       "⎢0  1  0  0⎥\n",
       "⎢          ⎥\n",
       "⎢0  0  1  0⎥\n",
       "⎢          ⎥\n",
       "⎣0  0  0  1⎦"
      ]
     },
     "execution_count": 42,
     "metadata": {},
     "output_type": "execute_result"
    }
   ],
   "source": [
    "eye(4)"
   ]
  },
  {
   "cell_type": "code",
   "execution_count": 43,
   "metadata": {},
   "outputs": [],
   "source": [
    "#qual a característica dos elementos da diagona principal?\n",
    "#A=(a_ij)\n",
    "#a_ii para i=1,2,...,n"
   ]
  },
  {
   "cell_type": "code",
   "execution_count": 45,
   "metadata": {},
   "outputs": [
    {
     "data": {
      "text/latex": [
       "$\\displaystyle \\left[\\begin{matrix}1 & 0 & 0\\\\0 & 3 & 0\\\\0 & 0 & \\pi\\end{matrix}\\right]$"
      ],
      "text/plain": [
       "⎡1  0  0⎤\n",
       "⎢       ⎥\n",
       "⎢0  3  0⎥\n",
       "⎢       ⎥\n",
       "⎣0  0  π⎦"
      ]
     },
     "execution_count": 45,
     "metadata": {},
     "output_type": "execute_result"
    }
   ],
   "source": [
    "#matrizes diagonais\n",
    "#zero fora da diagonal principal\n",
    "diag(1,3,pi)"
   ]
  },
  {
   "cell_type": "code",
   "execution_count": 46,
   "metadata": {},
   "outputs": [
    {
     "data": {
      "text/latex": [
       "$\\displaystyle \\left[\\begin{matrix}1 & 1 & 1\\\\1 & 1 & 1\\end{matrix}\\right]$"
      ],
      "text/plain": [
       "⎡1  1  1⎤\n",
       "⎢       ⎥\n",
       "⎣1  1  1⎦"
      ]
     },
     "execution_count": 46,
     "metadata": {},
     "output_type": "execute_result"
    }
   ],
   "source": [
    "ones(2,3)"
   ]
  },
  {
   "cell_type": "code",
   "execution_count": 47,
   "metadata": {},
   "outputs": [
    {
     "data": {
      "text/latex": [
       "$\\displaystyle \\left[\\begin{matrix}0 & 0\\\\0 & 0\\end{matrix}\\right]$"
      ],
      "text/plain": [
       "⎡0  0⎤\n",
       "⎢    ⎥\n",
       "⎣0  0⎦"
      ]
     },
     "execution_count": 47,
     "metadata": {},
     "output_type": "execute_result"
    }
   ],
   "source": [
    "zeros(2,2)"
   ]
  },
  {
   "cell_type": "code",
   "execution_count": 48,
   "metadata": {},
   "outputs": [
    {
     "data": {
      "text/latex": [
       "$\\displaystyle \\left[\\begin{matrix}2 & 0 & 0 & 0\\\\0 & 1 & 1 & 0\\\\0 & 1 & 1 & 0\\\\0 & 0 & 0 & 3\\\\0 & 0 & 0 & 1\\\\0 & 0 & 0 & 0\\end{matrix}\\right]$"
      ],
      "text/plain": [
       "⎡2  0  0  0⎤\n",
       "⎢          ⎥\n",
       "⎢0  1  1  0⎥\n",
       "⎢          ⎥\n",
       "⎢0  1  1  0⎥\n",
       "⎢          ⎥\n",
       "⎢0  0  0  3⎥\n",
       "⎢          ⎥\n",
       "⎢0  0  0  1⎥\n",
       "⎢          ⎥\n",
       "⎣0  0  0  0⎦"
      ]
     },
     "execution_count": 48,
     "metadata": {},
     "output_type": "execute_result"
    }
   ],
   "source": [
    "diag(2,ones(2,2),Matrix([3,1,0]))"
   ]
  },
  {
   "cell_type": "code",
   "execution_count": 50,
   "metadata": {},
   "outputs": [],
   "source": [
    "M=Matrix([[1, 0, 1, 3],[2,3,4,7],[-1,-3,-3,-4]])"
   ]
  },
  {
   "cell_type": "code",
   "execution_count": 51,
   "metadata": {},
   "outputs": [
    {
     "data": {
      "text/latex": [
       "$\\displaystyle \\left( \\left[\\begin{matrix}1 & 0 & 1 & 3\\\\0 & 1 & \\frac{2}{3} & \\frac{1}{3}\\\\0 & 0 & 0 & 0\\end{matrix}\\right], \\  \\left( 0, \\  1\\right)\\right)$"
      ],
      "text/plain": [
       "⎛⎡1  0   1    3 ⎤        ⎞\n",
       "⎜⎢              ⎥        ⎟\n",
       "⎜⎢0  1  2/3  1/3⎥, (0, 1)⎟\n",
       "⎜⎢              ⎥        ⎟\n",
       "⎝⎣0  0   0    0 ⎦        ⎠"
      ]
     },
     "execution_count": 51,
     "metadata": {},
     "output_type": "execute_result"
    }
   ],
   "source": [
    "M.rref()"
   ]
  },
  {
   "cell_type": "code",
   "execution_count": null,
   "metadata": {},
   "outputs": [],
   "source": [
    "#no rref os pivôs sempre valem 1"
   ]
  }
 ],
 "metadata": {
  "kernelspec": {
   "display_name": "Python 3",
   "language": "python",
   "name": "python3"
  },
  "language_info": {
   "codemirror_mode": {
    "name": "ipython",
    "version": 3
   },
   "file_extension": ".py",
   "mimetype": "text/x-python",
   "name": "python",
   "nbconvert_exporter": "python",
   "pygments_lexer": "ipython3",
   "version": "3.7.6"
  }
 },
 "nbformat": 4,
 "nbformat_minor": 4
}
